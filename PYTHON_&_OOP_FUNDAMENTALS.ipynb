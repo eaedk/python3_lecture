{
  "cells": [
    {
      "cell_type": "markdown",
      "metadata": {
        "id": "view-in-github",
        "colab_type": "text"
      },
      "source": [
        "<a href=\"https://colab.research.google.com/github/eaedk/python3_lecture/blob/main/PYTHON_%26_OOP_FUNDAMENTALS.ipynb\" target=\"_parent\"><img src=\"https://colab.research.google.com/assets/colab-badge.svg\" alt=\"Open In Colab\"/></a>"
      ]
    },
    {
      "cell_type": "markdown",
      "id": "8a1180a3",
      "metadata": {
        "id": "8a1180a3"
      },
      "source": [
        "### Introduction\n",
        "This tutorial is designed to introduce you to the fundamentals of python programming by providing you with the basic understanding of the Python datatypes, language syntax, and methods. We also cover the notion of Object Oriented Programming as applied to Python.\n",
        "\n",
        "Please note that this tutorial is introductory and we expect you to leverage the concepts introduced here to build more competent Python programming skills even as you advance in the IDL course.\n",
        "\n",
        "We cover the following concepts in this tutorial\n",
        "1. Python Data Types and Associated Methods\n",
        "2. Python Built-in Functions\n",
        "2. Logical statements (if...else)\n",
        "3. Looping\n",
        "4. File Methods\n",
        "5. User-Defined Functions\n",
        "6. Errors & Exception Handling\n",
        "7. Recursion\n",
        "9. Object Oriented Programming (OOP)"
      ]
    },
    {
      "cell_type": "markdown",
      "id": "70626876",
      "metadata": {
        "id": "70626876"
      },
      "source": [
        "#### 1. Python Data Types and Manipulations\n",
        "##### Numeric"
      ]
    },
    {
      "cell_type": "code",
      "execution_count": null,
      "id": "29f9a7c7",
      "metadata": {
        "colab": {
          "base_uri": "https://localhost:8080/"
        },
        "id": "29f9a7c7",
        "outputId": "641f78c6-d23b-4be3-bad5-7456f566dde2"
      },
      "outputs": [
        {
          "output_type": "stream",
          "name": "stdout",
          "text": [
            "The addition of 23 and 8.98 is 31.98\n",
            "The subtraction of 3.56 from -21 is -24.56\n",
            "\n",
            "The division of 23 by 8.98 is 2.5612472160356345\n",
            "The multiplication of 23 and 3.56 is 81.88\n",
            "\n",
            "The quotient when we divide 23 by -21 is -2\n",
            "The remainder when we divide 23 by -21 is -19\n"
          ]
        }
      ],
      "source": [
        "# We have three numeric data types: Integers, Floating points, and Complex numbers\n",
        "\n",
        "# We will focus on Integers and Floating points\n",
        "\n",
        "# Assign integer numbers to variables\n",
        "int_1 = 23\n",
        "int_2 = -21\n",
        "int_3 = 5\n",
        "\n",
        "# Assign floating point numbers to variables\n",
        "floating_1 = 3.56\n",
        "floating_2 = 8.98\n",
        "\n",
        "# We can perform arithmetic operations with the numeric values\n",
        "add_ = int_1 + floating_2\n",
        "sub_ = int_2 - floating_1\n",
        "div_2 = int_1 / floating_2\n",
        "mult_ = int_1 * floating_1\n",
        "\n",
        "# Return the quotient after a numeric division\n",
        "div_1 = int_1 // int_2\n",
        "\n",
        "# We can also get just the remainder after a numeric division\n",
        "rem_ = int_1 % int_2\n",
        "\n",
        "# The print built-in function comes in handy when you want to print a mix of variables and text/string\n",
        "print(\"The addition of\", int_1, \"and\", floating_2, \"is\", add_)\n",
        "\n",
        "# We can also use the 'f-format' print function to make printing easier and cohesive\n",
        "print(f\"The subtraction of {floating_1} from {int_2} is {sub_}\\n\")\n",
        "\n",
        "print(f\"The division of {int_1} by {floating_2} is {div_2}\")\n",
        "\n",
        "print(f\"The multiplication of {int_1} and {floating_1} is {mult_}\\n\")\n",
        "\n",
        "print(f\"The quotient when we divide {int_1} by {int_2} is {div_1}\")\n",
        "\n",
        "print(f\"The remainder when we divide {int_1} by {int_2} is {rem_}\")"
      ]
    },
    {
      "cell_type": "markdown",
      "id": "1cce58bc",
      "metadata": {
        "id": "1cce58bc"
      },
      "source": [
        "##### Strings"
      ]
    },
    {
      "cell_type": "code",
      "execution_count": null,
      "id": "85cd9a2b",
      "metadata": {
        "colab": {
          "base_uri": "https://localhost:8080/"
        },
        "id": "85cd9a2b",
        "outputId": "0a8863b4-ad6c-4f2a-d834-9c128151d132"
      },
      "outputs": [
        {
          "output_type": "stream",
          "name": "stdout",
          "text": [
            "IDL is a fun COURSE\n",
            "34.5\n",
            "[34, \"I am not kidding\"]\n"
          ]
        }
      ],
      "source": [
        "# We can create a string in python by using a single or double quotes around any piece of text\n",
        "str_1 = \"IDL is a fun COURSE\"\n",
        "\n",
        "# Putting numeric values in a quotes makes it a string\n",
        "str_2 = '34.5'\n",
        "\n",
        "# We need to escape the quote characters using backslash ('\\') if we want to use them literally\n",
        "str_3 = \"[34, \\\"I am not kidding\\\"]\"\n",
        "\n",
        "print(str_1,'\\n',str_2,'\\n',str_3, sep=\"\")"
      ]
    },
    {
      "cell_type": "code",
      "execution_count": null,
      "id": "e157f2e2",
      "metadata": {
        "colab": {
          "base_uri": "https://localhost:8080/"
        },
        "id": "e157f2e2",
        "outputId": "4ae1082a-db97-4e47-f608-6bd065bc7684"
      },
      "outputs": [
        {
          "output_type": "stream",
          "name": "stdout",
          "text": [
            "The first character in \"IDL is a fun COURSE\" is \"I\"\n",
            "The thrid character in \"IDL is a fun COURSE\" is \"L\"\n",
            "The last character in \"IDL is a fun COURSE\" is \"E\"\n",
            "The first five characters in \"IDL is a fun COURSE\" is \"IDL i\"\n",
            "The last three characters in \"IDL is a fun COURSE\" is \"RSE\"\n"
          ]
        }
      ],
      "source": [
        "# We can access the characters of a string by indexing; Remember Python uses 'Zero-based' Indexing\n",
        "# Spaces are also counted as characters in a string\n",
        "\n",
        "first_char = str_1[0]\n",
        "third_char = str_1[2]\n",
        "last_char = str_1[-1]\n",
        "\n",
        "# We can also get a sub-string from the whole string also by using the indexing approach\n",
        "first_five = str_1[0:5]\n",
        "last_three = str_1[-3:]\n",
        "\n",
        "print(f\"The first character in \\\"{str_1}\\\" is \\\"{first_char}\\\"\")\n",
        "print(f\"The thrid character in \\\"{str_1}\\\" is \\\"{third_char}\\\"\")\n",
        "print(f\"The last character in \\\"{str_1}\\\" is \\\"{last_char}\\\"\")\n",
        "print(f\"The first five characters in \\\"{str_1}\\\" is \\\"{first_five}\\\"\")\n",
        "print(f\"The last three characters in \\\"{str_1}\\\" is \\\"{last_three}\\\"\")"
      ]
    },
    {
      "cell_type": "code",
      "execution_count": null,
      "id": "cca55e98",
      "metadata": {
        "colab": {
          "base_uri": "https://localhost:8080/"
        },
        "id": "cca55e98",
        "outputId": "bec74db4-7a0c-42a3-ad6b-44e03f99407b"
      },
      "outputs": [
        {
          "output_type": "stream",
          "name": "stdout",
          "text": [
            "The length of \"[34, \"I am not kidding\"]\" is 24\n",
            "Spliting \"IDL is a fun COURSE\" based on space we get ['IDL', 'is', 'a', 'fun', 'COURSE']\n",
            "Spliting \"IDL is a fun COURSE\" based on \"s\" we get ['IDL i', ' a fun COURSE']\n"
          ]
        }
      ],
      "source": [
        "# We use the len() built-in function to find the length of a string\n",
        "str_3_length = len(str_3)\n",
        "\n",
        "# Split a string based on a delimeter using the split() function\n",
        "split_str_1 = str_1.split()\n",
        "split_s_str_1 = str_1.split('s')\n",
        "\n",
        "print(f\"The length of \\\"{str_3}\\\" is {str_3_length}\")\n",
        "\n",
        "print(f\"Spliting \\\"{str_1}\\\" based on space we get {split_str_1}\")\n",
        "print(f\"Spliting \\\"{str_1}\\\" based on \\\"s\\\" we get {split_s_str_1}\")"
      ]
    },
    {
      "cell_type": "code",
      "execution_count": null,
      "id": "4bfb9f03",
      "metadata": {
        "colab": {
          "base_uri": "https://localhost:8080/"
        },
        "id": "4bfb9f03",
        "outputId": "3f0390b3-d683-41af-da9c-6d2daf3d203d"
      },
      "outputs": [
        {
          "output_type": "stream",
          "name": "stdout",
          "text": [
            "\"I LOVE IDL COURSE\" in lower case is \"i love idl course\"\n",
            "\"fun and amazing\" in upper case is \"FUN AND AMAZING\"\n"
          ]
        }
      ],
      "source": [
        "# We can use the lower and upper to convert from upper case to lower case and vice versa\n",
        "str_4 = \"I LOVE IDL COURSE\"\n",
        "str_5 = \"fun and amazing\"\n",
        "\n",
        "str_4_lower = str_4.lower()\n",
        "str_5_upper = str_5.upper()\n",
        "\n",
        "print(f\"\\\"{str_4}\\\" in lower case is \\\"{str_4_lower}\\\"\")\n",
        "print(f\"\\\"{str_5}\\\" in upper case is \\\"{str_5_upper}\\\"\")\n"
      ]
    },
    {
      "cell_type": "code",
      "execution_count": null,
      "id": "9696c3b6",
      "metadata": {
        "colab": {
          "base_uri": "https://localhost:8080/"
        },
        "id": "9696c3b6",
        "outputId": "f3db8df5-7c25-4994-f7e9-0c2bf15a5d54"
      },
      "outputs": [
        {
          "output_type": "stream",
          "name": "stdout",
          "text": [
            "Adding strings together we get I LOVE IDL COURSE it is fun and amazing\n",
            "Multiplying I LOVE IDL COURSE by 3 we get I LOVE IDL COURSEI LOVE IDL COURSEI LOVE IDL COURSE\n"
          ]
        }
      ],
      "source": [
        "# We can also add two strings together\n",
        "str_6 = str_4 + \" it is \" + str_5\n",
        "\n",
        "# Multiply a string by a number\n",
        "str_7 = str_4 * 3\n",
        "\n",
        "print(f\"Adding strings together we get {str_6}\")\n",
        "print(f\"Multiplying {str_4} by 3 we get {str_7}\")"
      ]
    },
    {
      "cell_type": "markdown",
      "id": "02f3821b",
      "metadata": {
        "id": "02f3821b"
      },
      "source": [
        "##### List"
      ]
    },
    {
      "cell_type": "code",
      "execution_count": null,
      "id": "05daf111",
      "metadata": {
        "id": "05daf111"
      },
      "outputs": [],
      "source": [
        "# We create a list using the square brackets;\n",
        "list_1 = [34, 45, 56, 89, 12.5, 20, 3.4]\n",
        "\n",
        "list_2 = ['sam', 'IDL', 'love', 'create']\n",
        "\n",
        "list_3 = [34, 22, 'novice', 'claim', '45.3', 90.07]\n",
        "\n",
        "list_4 = [['IBM', 'Microsoft', 43], 'Dell', [23, 65], 'calm', 76.98]"
      ]
    },
    {
      "cell_type": "code",
      "execution_count": null,
      "id": "ea6dea6e",
      "metadata": {
        "colab": {
          "base_uri": "https://localhost:8080/"
        },
        "id": "ea6dea6e",
        "outputId": "8c0b95ba-87ea-4e45-ded0-99f62c4a854f"
      },
      "outputs": [
        {
          "output_type": "stream",
          "name": "stdout",
          "text": [
            "list_5 = [34, 22, 'novice', 'claim', '45.3', 90.07, ['IBM', 'Microsoft', 43], 'Dell', [23, 65], 'calm', 76.98]\n",
            "list_2 = ['sam', 'IDL', 'love', 'create', 34, 45, 56, 89, 12.5, 20, 3.4]\n"
          ]
        }
      ],
      "source": [
        "# Adding list together creates a list containing both lists\n",
        "list_5 = list_3 + list_4\n",
        "\n",
        "# Alternatively we can also extend a list using the extend() function\n",
        "list_2.extend(list_1)\n",
        "\n",
        "print(f\"list_5 = {list_5}\")\n",
        "print(f\"list_2 = {list_2}\")"
      ]
    },
    {
      "cell_type": "code",
      "execution_count": null,
      "id": "a3d65cf5",
      "metadata": {
        "colab": {
          "base_uri": "https://localhost:8080/"
        },
        "id": "a3d65cf5",
        "outputId": "6f64d902-0d79-41f4-eb7f-3a75693624b4"
      },
      "outputs": [
        {
          "output_type": "stream",
          "name": "stdout",
          "text": [
            "list_5: [34, 22, 'novice', 'claim', '45.3', 90.07, ['IBM', 'Microsoft', 43], 'Dell', [23, 65], 'calm', 76.98]\n",
            "first item: 34\n",
            "seventh item: ['IBM', 'Microsoft', 43]\n",
            "last three items: [[23, 65], 'calm', 76.98]\n"
          ]
        }
      ],
      "source": [
        "# We can select an item in a list using indexing just like we did with strings; remember 'zero-based' indexing\n",
        "first_item = list_5[0]\n",
        "seventh_item = list_5[6]\n",
        "last_item = list_5[-1]\n",
        "\n",
        "# Selecting a range of items\n",
        "four_items = list_5[4:8]\n",
        "last_three_items = list_5[-3:]\n",
        "\n",
        "print(f\"list_5: {list_5}\")\n",
        "print(f\"first item: {first_item}\")\n",
        "print(f\"seventh item: {seventh_item}\")\n",
        "print(f\"last three items: {last_three_items}\")"
      ]
    },
    {
      "cell_type": "code",
      "execution_count": null,
      "id": "0e3ba91b",
      "metadata": {
        "colab": {
          "base_uri": "https://localhost:8080/"
        },
        "id": "0e3ba91b",
        "outputId": "00fa9d17-cda3-4772-ed81-79203602a9ab"
      },
      "outputs": [
        {
          "output_type": "stream",
          "name": "stdout",
          "text": [
            "list_2: ['sam', 'IDL', 'love', 'create']\n",
            "After appending \"Google\": ['sam', 'IDL', 'love', 'create', 'Google']\n",
            "\n",
            "\n",
            "After removing \"sam\": ['IDL', 'love', 'create', 'Google']\n",
            "After inserting \"Amazon\" at index 1: ['IDL', 'Amazon', 'love', 'create', 'Google']\n",
            "\n",
            "list_6: ['Google', 'Microsoft', 'IBM', 'Apple', 'Microsoft', 'Microsoft', 'IBM', 'Apple']\n",
            "The number of \"Microsoft\" in the list is: 3\n"
          ]
        }
      ],
      "source": [
        "list_2 = ['sam', 'IDL', 'love', 'create']\n",
        "\n",
        "# We can add to the end of a list using append() function\n",
        "print(f\"list_2: {list_2}\")\n",
        "\n",
        "list_2.append('Google')\n",
        "\n",
        "print(f\"After appending \\\"Google\\\": {list_2}\")\n",
        "print()\n",
        "\n",
        "\n",
        "# Use remove() method to remove the first instance of specified item\n",
        "list_2.remove('sam')\n",
        "print()\n",
        "print(f\"After removing \\\"sam\\\": {list_2}\")\n",
        "\n",
        "# Use insert() method to add an item to a specified position\n",
        "list_2.insert(1, 'Amazon')\n",
        "print(f\"After inserting \\\"Amazon\\\" at index 1: {list_2}\")\n",
        "\n",
        "list_6 = ['Google', 'Microsoft', 'IBM', 'Apple', 'Microsoft', 'Microsoft', 'IBM', 'Apple']\n",
        "# Use count() method to count the number of element in a list\n",
        "print(f\"\\nlist_6: {list_6}\")\n",
        "print(f\"The number of \\\"Microsoft\\\" in the list is: {list_6.count('Microsoft')}\")"
      ]
    },
    {
      "cell_type": "code",
      "execution_count": null,
      "id": "27682397",
      "metadata": {
        "colab": {
          "base_uri": "https://localhost:8080/"
        },
        "id": "27682397",
        "outputId": "d80253ae-71e1-44e7-b76e-6338d44edda1"
      },
      "outputs": [
        {
          "output_type": "stream",
          "name": "stdout",
          "text": [
            "Reversed list: ['Yellow', 'Green', 'Blue']\n",
            "\n",
            "Blue in ['Yellow', 'Green', 'Blue']: True\n",
            "Red in ['Yellow', 'Green', 'Blue']: False\n"
          ]
        }
      ],
      "source": [
        "list_7 = ['Blue', 'Green', 'Yellow']\n",
        "\n",
        "# Use the reverse() method to reverse a list order\n",
        "list_7.reverse()\n",
        "\n",
        "print(f\"Reversed list: {list_7}\")\n",
        "print()\n",
        "\n",
        "# Check if an element is in a list using the \"in\" keyword\n",
        "answer_1 = 'Blue' in list_7\n",
        "answer_2 = 'Red' in list_7\n",
        "\n",
        "print(f\"Blue in {list_7}: {answer_1}\")\n",
        "print(f\"Red in {list_7}: {answer_2}\")"
      ]
    },
    {
      "cell_type": "markdown",
      "id": "97b16abc",
      "metadata": {
        "id": "97b16abc"
      },
      "source": [
        "##### Tuples"
      ]
    },
    {
      "cell_type": "code",
      "execution_count": null,
      "id": "3c4726d9",
      "metadata": {
        "colab": {
          "base_uri": "https://localhost:8080/"
        },
        "id": "3c4726d9",
        "outputId": "7f4c50a6-4d6c-47a8-8d1a-81578021f1bc"
      },
      "outputs": [
        {
          "output_type": "stream",
          "name": "stdout",
          "text": [
            "('great', 'IDL')\n",
            "(23.4, 'Yes')\n",
            "\n",
            "[('Peter', 'Nigeria', 22), ('Sandra', 'USA', 23), ('Samantha', 'Spain', 26), ('Varun', 'India', 20)]\n"
          ]
        }
      ],
      "source": [
        "# Create tuples using parenthesis; same as list but immutable\n",
        "tup_1 = ('great', 'IDL')\n",
        "tup_2 = (23.4, 'Yes')\n",
        "\n",
        "# Create a list of tuples by 'zipping' two or more list of equal lengths\n",
        "list_8 = ['Peter', 'Sandra', 'Samantha', 'Varun']\n",
        "list_9 = ['Nigeria', 'USA', 'Spain', 'India']\n",
        "list_10 = [22, 23, 26, 20]\n",
        "\n",
        "tup_list = list(zip(list_8, list_9, list_10))\n",
        "print(tup_1)\n",
        "print(tup_2)\n",
        "print()\n",
        "\n",
        "\n",
        "print(tup_list)"
      ]
    },
    {
      "cell_type": "code",
      "execution_count": null,
      "id": "ec081c60",
      "metadata": {
        "colab": {
          "base_uri": "https://localhost:8080/"
        },
        "id": "ec081c60",
        "outputId": "aa5b3898-8a33-43d7-8c40-744fbb455bda"
      },
      "outputs": [
        {
          "output_type": "stream",
          "name": "stdout",
          "text": [
            "The index of 'great' in ('great', 'IDL'): 0\n",
            "The index of 'Yes' in (23.4, 'Yes'): 1\n"
          ]
        }
      ],
      "source": [
        "# Get the index of an element in a tuple\n",
        "print(f\"The index of 'great' in {tup_1}: {tup_1.index('great')}\")\n",
        "print(f\"The index of 'Yes' in {tup_2}: {tup_2.index('Yes')}\")"
      ]
    },
    {
      "cell_type": "markdown",
      "id": "c7d5dad6",
      "metadata": {
        "id": "c7d5dad6"
      },
      "source": [
        "##### Set"
      ]
    },
    {
      "cell_type": "code",
      "execution_count": null,
      "id": "3cb085c4",
      "metadata": {
        "colab": {
          "base_uri": "https://localhost:8080/"
        },
        "id": "3cb085c4",
        "outputId": "51a58c24-709d-4b8e-a773-83f77df8e164"
      },
      "outputs": [
        {
          "output_type": "stream",
          "name": "stdout",
          "text": [
            "{'White', 'Orange', 'Red', 'Yellow', 'Blue'}\n"
          ]
        }
      ],
      "source": [
        "# A set contains unique elements;\n",
        "\n",
        "# Create a set by declaring it using curly brackets.\n",
        "\n",
        "# Ignores duplicate elements; uses just a single instance of each element\n",
        "set_2 = {'Blue', 'Yellow', 'Orange', 'Yellow', 'Red', 'White', 'Blue'}\n",
        "\n",
        "print(set_2)"
      ]
    },
    {
      "cell_type": "code",
      "execution_count": null,
      "id": "d53aa841",
      "metadata": {
        "colab": {
          "base_uri": "https://localhost:8080/"
        },
        "id": "d53aa841",
        "outputId": "7382179d-6eef-4b22-d310-dc3ae4d6fd83"
      },
      "outputs": [
        {
          "output_type": "stream",
          "name": "stdout",
          "text": [
            "{'Apple', 'Google', 'Microsoft', 'IBM'}\n"
          ]
        }
      ],
      "source": [
        "# Create a set from a list by casting using the set method set()\n",
        "list_6 = ['Google', 'Microsoft', 'IBM', 'Apple', 'Microsoft', 'Microsoft', 'IBM', 'Apple']\n",
        "\n",
        "set_1 = set(list_6)\n",
        "\n",
        "print(set_1)"
      ]
    },
    {
      "cell_type": "code",
      "execution_count": null,
      "id": "87449d00",
      "metadata": {
        "colab": {
          "base_uri": "https://localhost:8080/"
        },
        "id": "87449d00",
        "outputId": "102b0830-e53d-4e11-e223-ae1344591a0b"
      },
      "outputs": [
        {
          "output_type": "stream",
          "name": "stdout",
          "text": [
            "Added \"Black\": {'White', 'Orange', 'Black', 'Red', 'Yellow', 'Blue'}\n"
          ]
        }
      ],
      "source": [
        "# Add an element to a set using add() method\n",
        "\n",
        "set_2.add('Black')\n",
        "print(f\"Added \\\"Black\\\": {set_2}\")"
      ]
    },
    {
      "cell_type": "code",
      "execution_count": null,
      "id": "650ebdb7",
      "metadata": {
        "colab": {
          "base_uri": "https://localhost:8080/",
          "height": 200
        },
        "id": "650ebdb7",
        "outputId": "8122daef-ff4b-4004-ea61-cf6c6c6f5fc1"
      },
      "outputs": [
        {
          "output_type": "error",
          "ename": "TypeError",
          "evalue": "ignored",
          "traceback": [
            "\u001b[0;31m---------------------------------------------------------------------------\u001b[0m",
            "\u001b[0;31mTypeError\u001b[0m                                 Traceback (most recent call last)",
            "\u001b[0;32m<ipython-input-17-de0c0d11e148>\u001b[0m in \u001b[0;36m<module>\u001b[0;34m\u001b[0m\n\u001b[1;32m      2\u001b[0m \u001b[0;34m\u001b[0m\u001b[0m\n\u001b[1;32m      3\u001b[0m \u001b[0;31m# More details in the 'looping' section on how to access set elements by index\u001b[0m\u001b[0;34m\u001b[0m\u001b[0;34m\u001b[0m\u001b[0;34m\u001b[0m\u001b[0m\n\u001b[0;32m----> 4\u001b[0;31m \u001b[0mprint\u001b[0m\u001b[0;34m(\u001b[0m\u001b[0mset_2\u001b[0m\u001b[0;34m[\u001b[0m\u001b[0;36m1\u001b[0m\u001b[0;34m]\u001b[0m\u001b[0;34m)\u001b[0m\u001b[0;34m\u001b[0m\u001b[0;34m\u001b[0m\u001b[0m\n\u001b[0m",
            "\u001b[0;31mTypeError\u001b[0m: 'set' object is not subscriptable"
          ]
        }
      ],
      "source": [
        "# We cannot directly index a set to obtain an item\n",
        "\n",
        "# More details in the 'looping' section on how to access set elements by index\n",
        "print(set_2[1])"
      ]
    },
    {
      "cell_type": "markdown",
      "id": "cca05731",
      "metadata": {
        "id": "cca05731"
      },
      "source": [
        "<b>Please checkout other methods you can use with set using the link:</b>\n",
        "<a href=\"https://www.w3schools.com/python/python_ref_set.asp\">  Set Methods </a>"
      ]
    },
    {
      "cell_type": "markdown",
      "id": "1f156b67",
      "metadata": {
        "id": "1f156b67"
      },
      "source": [
        "##### Dictionary"
      ]
    },
    {
      "cell_type": "code",
      "execution_count": null,
      "id": "717b43b6",
      "metadata": {
        "colab": {
          "base_uri": "https://localhost:8080/"
        },
        "id": "717b43b6",
        "outputId": "3bc70b08-d99a-4988-9ad2-c15c55678fa8"
      },
      "outputs": [
        {
          "output_type": "execute_result",
          "data": {
            "text/plain": [
              "{'Name': 'Alice',\n",
              " 'Age': 16,\n",
              " 'Hobbies': ['Dancing', 'Singing'],\n",
              " 'UUID': '045',\n",
              " 3: 'Accountant'}"
            ]
          },
          "metadata": {},
          "execution_count": 18
        }
      ],
      "source": [
        "# A dictionary consists of key-value pairs similar to a JSON data type; the keys must be unique\n",
        "dict_1 = {'Name':'Alice', 'Age':16, 'Hobbies':['Dancing', 'Singing'], 'UUID':'045', 3:'Accountant'}\n",
        "dict_1"
      ]
    },
    {
      "cell_type": "code",
      "execution_count": null,
      "id": "372cb74e",
      "metadata": {
        "colab": {
          "base_uri": "https://localhost:8080/"
        },
        "id": "372cb74e",
        "outputId": "d0e21122-8632-447d-bff7-40f577fa87f1"
      },
      "outputs": [
        {
          "output_type": "stream",
          "name": "stdout",
          "text": [
            "Alice\n",
            "Accountant\n"
          ]
        }
      ],
      "source": [
        "# We access each key-value pair using the 'key' in the dictionary\n",
        "print(dict_1['Name'])\n",
        "print(dict_1[3])"
      ]
    },
    {
      "cell_type": "code",
      "execution_count": null,
      "id": "a1224e48",
      "metadata": {
        "colab": {
          "base_uri": "https://localhost:8080/"
        },
        "id": "a1224e48",
        "outputId": "4bec6367-0901-4b95-ba53-37981bd85c5c"
      },
      "outputs": [
        {
          "output_type": "execute_result",
          "data": {
            "text/plain": [
              "{'Name': 'Susan',\n",
              " 'Age': 16,\n",
              " 'Hobbies': ['Dancing', 'Singing'],\n",
              " 'UUID': '045',\n",
              " 3: 'Accountant',\n",
              " 'Married': 'Yes'}"
            ]
          },
          "metadata": {},
          "execution_count": 20
        }
      ],
      "source": [
        "# We can update the dictionary by specifying the key and assigning a value to it\n",
        "dict_1['Married'] = 'Yes'\n",
        "dict_1['Name'] = 'Susan'\n",
        "dict_1"
      ]
    },
    {
      "cell_type": "code",
      "execution_count": null,
      "id": "6f611e5d",
      "metadata": {
        "colab": {
          "base_uri": "https://localhost:8080/"
        },
        "id": "6f611e5d",
        "outputId": "12f52187-038b-4f17-d37f-d3e25297aeed"
      },
      "outputs": [
        {
          "output_type": "stream",
          "name": "stdout",
          "text": [
            "['Name', 'Age', 'Hobbies', 'UUID', 3, 'Married'] \n",
            "\n",
            "dict_values(['Susan', 16, ['Dancing', 'Singing'], '045', 'Accountant', 'Yes']) \n",
            "\n",
            "[('Name', 'Susan'), ('Age', 16), ('Hobbies', ['Dancing', 'Singing']), ('UUID', '045'), (3, 'Accountant'), ('Married', 'Yes')]\n"
          ]
        }
      ],
      "source": [
        "# Obtain all keys in a dictionary\n",
        "all_keys = list(dict_1.keys())\n",
        "print(all_keys,'\\n')\n",
        "\n",
        "# Obtain all the values in a dictionary\n",
        "all_values = dict_1.values()\n",
        "print(all_values, '\\n')\n",
        "\n",
        "# obtain all key-value pairs as a list of tuples\n",
        "key_value = list(dict_1.items())\n",
        "print(key_value)"
      ]
    },
    {
      "cell_type": "markdown",
      "id": "8a886ea2",
      "metadata": {
        "id": "8a886ea2"
      },
      "source": [
        "<b>Please checkout other methods you can use with Dictionaries using the link:</b>\n",
        "<a href=\"https://www.w3schools.com/python/python_ref_dictionary.asp\">  Dictionary Methods </a>"
      ]
    },
    {
      "cell_type": "markdown",
      "id": "60242c0c",
      "metadata": {
        "id": "60242c0c"
      },
      "source": [
        "#### 2. Python Built-in Functions"
      ]
    },
    {
      "cell_type": "code",
      "execution_count": null,
      "id": "f19a9755",
      "metadata": {
        "colab": {
          "base_uri": "https://localhost:8080/"
        },
        "id": "f19a9755",
        "outputId": "430a486e-2ced-43eb-d2c9-cada4510660f"
      },
      "outputs": [
        {
          "output_type": "stream",
          "name": "stdout",
          "text": [
            "list_1: [34, 45, 56, 89, 12.5, 20, 3.4]\n",
            "\n",
            "Maximum number: 89\n",
            "Minimum number: 3.4\n"
          ]
        }
      ],
      "source": [
        "# We have used some of these functions previously such as the print(), len(), Zip()\n",
        "\n",
        "# Use the max() and min() to get the maximum and minimum number in an iterable\n",
        "print(f\"list_1: {list_1}\")\n",
        "print()\n",
        "\n",
        "print(f\"Maximum number: {max(list_1)}\")\n",
        "print(f\"Minimum number: {min(list_1)}\")"
      ]
    },
    {
      "cell_type": "code",
      "execution_count": null,
      "id": "268ebfeb",
      "metadata": {
        "colab": {
          "base_uri": "https://localhost:8080/"
        },
        "id": "268ebfeb",
        "outputId": "6bfcca0d-ff30-4fc4-9a4c-9d74f81a3568"
      },
      "outputs": [
        {
          "output_type": "stream",
          "name": "stdout",
          "text": [
            "Data type of list_1: <class 'list'>\n",
            "Data type of tup_1: <class 'tuple'>\n",
            "Data type of dict_1: <class 'dict'>\n",
            "Data type of 1: <class 'int'>\n",
            "Data type of str_1: <class 'str'>\n"
          ]
        }
      ],
      "source": [
        "# We can get what data type a variable is by using the Type() function\n",
        "print(f\"Data type of list_1: {type(list_1)}\")\n",
        "print(f\"Data type of tup_1: {type(tup_1)}\")\n",
        "print(f\"Data type of dict_1: {type(dict_1)}\")\n",
        "print(f\"Data type of 1: {type(1)}\")\n",
        "print(f\"Data type of str_1: {type(str_1)}\")"
      ]
    },
    {
      "cell_type": "code",
      "execution_count": null,
      "id": "07cf6d56",
      "metadata": {
        "colab": {
          "base_uri": "https://localhost:8080/"
        },
        "id": "07cf6d56",
        "outputId": "ce2f4817-5866-40f5-9caa-9a5fd91bc47f"
      },
      "outputs": [
        {
          "output_type": "stream",
          "name": "stdout",
          "text": [
            "range_1: [1, 2, 3, 4, 5, 6, 7, 8, 9, 10, 11, 12, 13, 14, 15, 16, 17, 18, 19]\n",
            "range_2: [1, 3, 5, 7, 9, 11, 13, 15, 17, 19, 21, 23, 25, 27, 29, 31, 33, 35, 37, 39]\n"
          ]
        }
      ],
      "source": [
        "# Create a list of range of numbers using the range function\n",
        "range_1 = range(1, 20)\n",
        "\n",
        "range_2 = range(1, 40, 2)\n",
        "\n",
        "print(f\"range_1: {list(range_1)}\")\n",
        "print(f\"range_2: {list(range_2)}\")"
      ]
    },
    {
      "cell_type": "markdown",
      "id": "5c4a50b6",
      "metadata": {
        "id": "5c4a50b6"
      },
      "source": [
        "<b>Please checkout other Python Built-in functions using the link:</b>\n",
        "<a href=\"https://www.w3schools.com/python/python_ref_functions.asp\">  Built-in Functions </a>"
      ]
    },
    {
      "cell_type": "markdown",
      "id": "ec241fd4",
      "metadata": {
        "id": "ec241fd4"
      },
      "source": [
        "#### 3. Logical statements (if...else)"
      ]
    },
    {
      "cell_type": "code",
      "execution_count": null,
      "id": "6ed83825",
      "metadata": {
        "colab": {
          "base_uri": "https://localhost:8080/"
        },
        "id": "6ed83825",
        "outputId": "733ae707-dab4-4f84-9076-6bcfe038a043"
      },
      "outputs": [
        {
          "output_type": "stream",
          "name": "stdout",
          "text": [
            "45.6 is greater than 23.45\n"
          ]
        }
      ],
      "source": [
        "# Python supports logical conditions\n",
        "# '==' means equal\n",
        "# '!=' means not equal\n",
        "#  '<' means less than\n",
        "#  '<=' means less than or equal to\n",
        "#  '>=' means greater than or equal to\n",
        "\n",
        "# Declare some variables\n",
        "var_a = 45.6\n",
        "var_b = 23.45\n",
        "var_c = 45.0\n",
        "var_d = 45.0\n",
        "\n",
        "# We use the 'if' keyword in python for conditioning; logical statements always returns True or False\n",
        "if var_a < var_b:\n",
        "  print(f\"{var_a} is less than {var_b}\")\n",
        "\n",
        "elif var_a == var_b:\n",
        "    print(f\"{var_a} is equal to {var_b}\")\n",
        "\n",
        "elif var_a > var_b:\n",
        "    print(f\"{var_a} is greater than {var_b}\")\n",
        "\n",
        "elif var_a >= var_b:\n",
        "    print(f\"{var_a} is greater than or equal to {var_b}\")\n",
        "\n",
        "else:\n",
        "    print(\"I do not get it\")\n",
        "\n",
        "# if var_a >= var_b:\n",
        "#     print(f\"{var_a} is greater than or equal to {var_b}\")"
      ]
    },
    {
      "cell_type": "code",
      "execution_count": null,
      "id": "8fbcc755",
      "metadata": {
        "colab": {
          "base_uri": "https://localhost:8080/"
        },
        "id": "8fbcc755",
        "outputId": "c7ee43d0-63bf-4030-e0a6-e245bdb259e2"
      },
      "outputs": [
        {
          "output_type": "stream",
          "name": "stdout",
          "text": [
            "45.6 is greater than 23.45\n",
            "45.0 is equal to 45.0\n"
          ]
        }
      ],
      "source": [
        "# We use the logical operators 'and', 'or', 'not' to join series of conditional statements\n",
        "if var_a < var_b and var_c == var_d:\n",
        "    print(f\"{var_a} is less than {var_b}\")\n",
        "    print(f\"{var_c} is equal to {var_d}\")\n",
        "\n",
        "elif var_a > var_b and var_c == var_d:\n",
        "    print(f\"{var_a} is greater than {var_b}\")\n",
        "    print(f\"{var_c} is equal to {var_d}\")\n",
        ""
      ]
    },
    {
      "cell_type": "code",
      "execution_count": null,
      "id": "db203dad",
      "metadata": {
        "colab": {
          "base_uri": "https://localhost:8080/"
        },
        "id": "db203dad",
        "outputId": "50dabebc-f2c9-41d2-c211-6f6bfb9c3f54"
      },
      "outputs": [
        {
          "output_type": "stream",
          "name": "stdout",
          "text": [
            "one of the statements is True\n"
          ]
        }
      ],
      "source": [
        "# We use the logical operators 'and', 'or', 'not' to join series of conditional statements\n",
        "if var_a < var_b or var_c == var_d:\n",
        "    print(\"one of the statements is True\")\n",
        "\n",
        "elif var_a > var_b or var_c == var_d:\n",
        "    print(f\"{var_a} is greater than {var_b}\")\n",
        "    print(f\"{var_c} is equal to {var_d}\")"
      ]
    },
    {
      "cell_type": "code",
      "execution_count": null,
      "id": "6e0f0a1c",
      "metadata": {
        "colab": {
          "base_uri": "https://localhost:8080/"
        },
        "id": "6e0f0a1c",
        "outputId": "354aab92-73c2-4a53-fe27-1f34b6219bdf"
      },
      "outputs": [
        {
          "output_type": "stream",
          "name": "stdout",
          "text": [
            "EUR is in ['EUR', 'USD', 'GBP', 'AUD', 'CAD', 'JPY']\n",
            "USD is in ['EUR', 'USD', 'GBP', 'AUD', 'CAD', 'JPY']\n"
          ]
        }
      ],
      "source": [
        "# We can further perform logical operations with an iterable\n",
        "list_0 = ['EUR', 'USD', 'GBP', 'AUD', 'CAD', 'JPY']\n",
        "\n",
        "if 'EUR' in list_0:\n",
        "    print(f\"EUR is in {list_0}\")\n",
        "\n",
        "if 'USD' not in list_0:\n",
        "    print(f\"USD not in {list_0}\")\n",
        "\n",
        "else:\n",
        "    print(f\"USD is in {list_0}\")"
      ]
    },
    {
      "cell_type": "code",
      "execution_count": null,
      "id": "1e4622b2",
      "metadata": {
        "colab": {
          "base_uri": "https://localhost:8080/"
        },
        "id": "1e4622b2",
        "outputId": "3e185bec-6593-49c0-d11d-c7075296e78a"
      },
      "outputs": [
        {
          "output_type": "stream",
          "name": "stdout",
          "text": [
            "True but 45.6 is not less than 23.45\n"
          ]
        }
      ],
      "source": [
        "# Nested if..else statements\n",
        "if 'EUR' in list_0:\n",
        "    if var_a < var_b:\n",
        "        print(f\"{var_a} is less than {var_b}\")\n",
        "    else:\n",
        "        print(f\"True but {var_a} is not less than {var_b}\")\n",
        "\n",
        "elif 'USD' in list_0:\n",
        "    if var_a > var_b:\n",
        "        print(f\"{var_a} is greater than {var_b}\")\n",
        "    else:\n",
        "        print(f\"True and {var_a} is greater than {var_b}\")"
      ]
    },
    {
      "cell_type": "markdown",
      "id": "2a9aad6e",
      "metadata": {
        "id": "2a9aad6e"
      },
      "source": [
        "#### 4. Looping"
      ]
    },
    {
      "cell_type": "code",
      "execution_count": null,
      "id": "3ff5e021",
      "metadata": {
        "colab": {
          "base_uri": "https://localhost:8080/"
        },
        "id": "3ff5e021",
        "outputId": "1979b0fa-83d4-466e-a430-858bd99ceb4a"
      },
      "outputs": [
        {
          "output_type": "stream",
          "name": "stdout",
          "text": [
            "[0]\n",
            "[0, 1]\n",
            "[0, 1, 2]\n",
            "[0, 1, 2, 3]\n",
            "[0, 1, 2, 3, 4]\n",
            "[0, 1, 2, 3, 4, 5]\n",
            "[0, 1, 2, 3, 4, 5, 6]\n",
            "[0, 1, 2, 3, 4, 5, 6, 7]\n",
            "[0, 1, 2, 3, 4, 5, 6, 7, 8]\n",
            "[0, 1, 2, 3, 4, 5, 6, 7, 8, 9]\n"
          ]
        }
      ],
      "source": [
        "# Using For Loop to iterate over a number of times\n",
        "list_for = []\n",
        "for i in range(0, 10):\n",
        "    list_for.append(i)\n",
        "    print(list_for)\n"
      ]
    },
    {
      "cell_type": "code",
      "execution_count": null,
      "id": "be171ec6",
      "metadata": {
        "colab": {
          "base_uri": "https://localhost:8080/"
        },
        "id": "be171ec6",
        "outputId": "a353df1c-72da-4240-d4a9-53e0b534333a"
      },
      "outputs": [
        {
          "output_type": "stream",
          "name": "stdout",
          "text": [
            "EUR\n",
            "USD\n",
            "GBP\n",
            "AUD\n",
            "CAD\n",
            "JPY\n"
          ]
        }
      ],
      "source": [
        "# Looping through an iterable\n",
        "for item in list_0:\n",
        "    print(item)"
      ]
    },
    {
      "cell_type": "code",
      "execution_count": null,
      "id": "bcfadec9",
      "metadata": {
        "colab": {
          "base_uri": "https://localhost:8080/"
        },
        "id": "bcfadec9",
        "outputId": "1bcbfa48-e59c-476d-ac59-d9f52b9e9dbe"
      },
      "outputs": [
        {
          "output_type": "stream",
          "name": "stdout",
          "text": [
            "EUR\n",
            "USD\n",
            "GBP\n",
            "AUD\n",
            "CAD\n",
            "JPY\n"
          ]
        }
      ],
      "source": [
        "# Looping through an iterable using the index\n",
        "for index in range(len(list_0)):\n",
        "    print(list_0[index])"
      ]
    },
    {
      "cell_type": "code",
      "execution_count": null,
      "id": "02554ca7",
      "metadata": {
        "colab": {
          "base_uri": "https://localhost:8080/"
        },
        "id": "02554ca7",
        "outputId": "8b68bdae-6812-4185-fcb1-e0ad71737ef5"
      },
      "outputs": [
        {
          "output_type": "stream",
          "name": "stdout",
          "text": [
            "EUR\n",
            "USD\n",
            "GBP\n",
            "AUD\n",
            "CAD\n",
            "JPY\n"
          ]
        }
      ],
      "source": [
        "# A while loop can be used to achieve anything a For loop can do\n",
        "index = 0\n",
        "while index < len(list_0):\n",
        "    print(list_0[index])\n",
        "    index += 1"
      ]
    },
    {
      "cell_type": "code",
      "execution_count": null,
      "id": "c628a425",
      "metadata": {
        "colab": {
          "base_uri": "https://localhost:8080/"
        },
        "id": "c628a425",
        "outputId": "86ea7b1b-dbb8-4c8b-c3d5-a8ade178d54e"
      },
      "outputs": [
        {
          "output_type": "stream",
          "name": "stdout",
          "text": [
            "{'Name': 'Susan', 'Age': 16, 'Hobbies': ['Dancing', 'Singing'], 'UUID': '045', 3: 'Accountant', 'Married': 'Yes'}\n",
            "\n",
            "Name Susan\n",
            "Age 16\n",
            "Hobbies ['Dancing', 'Singing']\n",
            "UUID 045\n",
            "3 Accountant\n",
            "Married Yes\n"
          ]
        }
      ],
      "source": [
        "print(dict_1)\n",
        "print()\n",
        "\n",
        "# Looping through the items in a dictionary\n",
        "for key, value in dict_1.items():\n",
        "    print(key, value)"
      ]
    },
    {
      "cell_type": "code",
      "execution_count": null,
      "id": "f8af8202",
      "metadata": {
        "colab": {
          "base_uri": "https://localhost:8080/"
        },
        "id": "f8af8202",
        "outputId": "6c96d8b8-f4d9-4478-b4e7-d5299669fd4b"
      },
      "outputs": [
        {
          "output_type": "stream",
          "name": "stdout",
          "text": [
            "{'White', 'Orange', 'Black', 'Red', 'Yellow', 'Blue'}\n",
            "\n",
            "0 White\n",
            "EUR\n",
            "\n",
            "1 Orange\n",
            "USD\n",
            "\n",
            "2 Black\n",
            "GBP\n",
            "\n",
            "3 Red\n",
            "AUD\n",
            "\n",
            "4 Yellow\n",
            "CAD\n",
            "\n",
            "5 Blue\n",
            "JPY\n",
            "\n"
          ]
        }
      ],
      "source": [
        "print(set_2)\n",
        "print()\n",
        "\n",
        "# Looping through a set using enumerate()\n",
        "for index, item in enumerate(set_2):\n",
        "    print(index, item)\n",
        "    print(list_0[index])\n",
        "    print()"
      ]
    },
    {
      "cell_type": "markdown",
      "id": "2e93ca20",
      "metadata": {
        "id": "2e93ca20"
      },
      "source": [
        "#### 5. File Methods\n",
        "\n",
        "We use the open() function to open a file, for reading or writing; Open() function takes two major arguments \"filename\" and the \"mode\"\n",
        "\n",
        "<b>Modes</b><br>\n",
        "\n",
        "\"r\" - Read - Default value. Opens a file for reading, error if the file does not exist\n",
        "\n",
        "\"a\" - Append - Opens a file for appending, creates the file if it does not exist\n",
        "\n",
        "\"w\" - Write - Opens a file for writing, creates the file if it does not exist\n",
        "\n",
        "\"x\" - Create - Creates the specified file, returns an error if the file exists"
      ]
    },
    {
      "cell_type": "code",
      "execution_count": null,
      "id": "2a910fe4",
      "metadata": {
        "colab": {
          "base_uri": "https://localhost:8080/"
        },
        "id": "2a910fe4",
        "outputId": "9dd9d0b5-2f4d-468f-e404-426742430154"
      },
      "outputs": [
        {
          "output_type": "stream",
          "name": "stdout",
          "text": [
            "['Age,Sex,Job,Housing,Saving accounts,Checking account,Credit amount,Duration,Purpose,Risk\\n', '55,male,2,free,little,NA,1597,24,education,good\\n', '48,female,1,rent,little,moderate,1795,18,radio/TV,good\\n', '24,female,2,own,little,little,4272,20,furniture/equipment,good\\n', '35,male,2,own,NA,NA,976,12,radio/TV,good\\n', '24,female,0,rent,NA,moderate,7472,12,car,good\\n', '24,male,2,own,little,little,9271,36,car,bad\\n', '26,male,1,own,little,moderate,590,6,radio/TV,good\\n', '65,male,2,own,NA,NA,930,12,radio/TV,good\\n', '55,male,3,free,little,moderate,9283,42,car,good\\n']\n"
          ]
        }
      ],
      "source": [
        "# Open file in reading mode\n",
        "file_reader = open('Test_data.csv', mode='r', encoding='UTF-8')\n",
        "\n",
        "# Read all the lines in the file\n",
        "file_lines = file_reader.readlines()\n",
        "\n",
        "# Close file after reading\n",
        "file_reader.close()\n",
        "\n",
        "print(file_lines)\n"
      ]
    },
    {
      "cell_type": "code",
      "execution_count": null,
      "id": "682c1a82",
      "metadata": {
        "colab": {
          "base_uri": "https://localhost:8080/"
        },
        "id": "682c1a82",
        "outputId": "7b55a2de-1448-409e-e180-6a15e2ffe5ea"
      },
      "outputs": [
        {
          "output_type": "execute_result",
          "data": {
            "text/plain": [
              "[{'Age': '55',\n",
              "  'Sex': 'male',\n",
              "  'Job': '2',\n",
              "  'Housing': 'free',\n",
              "  'Saving accounts': 'little',\n",
              "  'Checking account': 'NA',\n",
              "  'Credit amount': '1597',\n",
              "  'Duration': '24',\n",
              "  'Purpose': 'education',\n",
              "  'Risk': 'good'},\n",
              " {'Age': '48',\n",
              "  'Sex': 'female',\n",
              "  'Job': '1',\n",
              "  'Housing': 'rent',\n",
              "  'Saving accounts': 'little',\n",
              "  'Checking account': 'moderate',\n",
              "  'Credit amount': '1795',\n",
              "  'Duration': '18',\n",
              "  'Purpose': 'radio/TV',\n",
              "  'Risk': 'good'}]"
            ]
          },
          "metadata": {},
          "execution_count": 2
        }
      ],
      "source": [
        "# Create a list to store my dictionaries\n",
        "list_dict = []\n",
        "\n",
        "# Reading a file line by line using 'with' keyword; closes file after reading/writing\n",
        "with open('Test_data.csv', 'r') as file_reader:\n",
        "\n",
        "    # reads the firstline which contains the field_names/columns\n",
        "    dict_keys = file_reader.readline().rstrip('\\n').split(',')\n",
        "\n",
        "    # Read each subsequent line strip out the newline character\n",
        "    for line in file_reader.readlines():\n",
        "        diction = {}\n",
        "        line_list = line.rstrip('\\n').split(',')\n",
        "\n",
        "        # Create a dictionary for each line\n",
        "        for index in range(len(dict_keys)):\n",
        "            diction[dict_keys[index]] = line_list[index]\n",
        "\n",
        "        # Append this dictionary to a list\n",
        "        list_dict.append(diction)\n",
        "\n",
        "list_dict[0:2]"
      ]
    },
    {
      "cell_type": "code",
      "execution_count": null,
      "id": "a4149ce9",
      "metadata": {
        "colab": {
          "base_uri": "https://localhost:8080/"
        },
        "id": "a4149ce9",
        "outputId": "bfa95827-e249-4358-efd2-47d98a58c70d"
      },
      "outputs": [
        {
          "output_type": "stream",
          "name": "stdout",
          "text": [
            "['Age', 'Sex', 'Job', 'Housing', 'Saving accounts', 'Checking account', 'Credit amount', 'Duration', 'Purpose', 'Risk']\n"
          ]
        }
      ],
      "source": [
        "print(dict_keys)\n",
        "\n",
        "# Writing to a file\n",
        "\n",
        "# Open the file using the 'with' and 'open' keyword\n",
        "with open('Writing_test_data.csv', 'w') as file_writer:\n",
        "\n",
        "    # join the keys together using a ',' to form a string and add a new line character at the end\n",
        "    fields = ','.join(dict_keys) + '\\n'\n",
        "\n",
        "    # Write this to the first line in the CSV file\n",
        "    file_writer.write(fields)\n",
        "\n",
        "    # loop through the dictionaries in the list\n",
        "    for diction in list_dict:\n",
        "\n",
        "        # For each dictionary join the values and add a newline\n",
        "        field_values = ','.join(list(diction.values())) + '\\n'\n",
        "\n",
        "        # Write these values to the file\n",
        "        file_writer.write(field_values)"
      ]
    },
    {
      "cell_type": "markdown",
      "id": "97a509b8",
      "metadata": {
        "id": "97a509b8"
      },
      "source": [
        "#### 6. User-Defined Functions\n",
        "\n",
        "Functions we define ourselves to perform specific task is called User-Defined Function.\n",
        "User-defined functions help to decompose a large program into small segments which makes the program easy to understand, maintain and debug."
      ]
    },
    {
      "cell_type": "code",
      "execution_count": null,
      "id": "2d7f8e51",
      "metadata": {
        "id": "2d7f8e51",
        "outputId": "b20cfad6-711f-40f4-fc53-7b75b3337ba3"
      },
      "outputs": [
        {
          "name": "stdout",
          "output_type": "stream",
          "text": [
            "Dumb! 3 is always less than 5\n"
          ]
        }
      ],
      "source": [
        "# We define a function using the 'def' keyword followed by the function name, the arguments, and a return statement\n",
        "def print_something():\n",
        "\n",
        "    if 3 < 5:\n",
        "        print(\"Dumb! 3 is always less than 5\")\n",
        "    else:\n",
        "        print(\"I can never reach here\")\n",
        "\n",
        "    return\n",
        "\n",
        "print_something()"
      ]
    },
    {
      "cell_type": "code",
      "execution_count": null,
      "id": "443355d6",
      "metadata": {
        "id": "443355d6",
        "outputId": "ea0eeac9-379c-49bf-a17e-c7d75d0246bb"
      },
      "outputs": [
        {
          "name": "stdout",
          "output_type": "stream",
          "text": [
            "The sum of numbers in the list is: 82\n"
          ]
        }
      ],
      "source": [
        "# We define another function with arguments\n",
        "def add_numbers(array):\n",
        "\n",
        "    sum_list = 0\n",
        "    for num in array:\n",
        "        sum_list += num\n",
        "\n",
        "    return sum_list\n",
        "\n",
        "list_sum = [2, 4, 7, 20, 23, 16, 10]\n",
        "print(f\"The sum of numbers in the list is: {add_numbers(list_sum)}\")"
      ]
    },
    {
      "cell_type": "code",
      "execution_count": null,
      "id": "2f2d6a09",
      "metadata": {
        "id": "2f2d6a09",
        "outputId": "fa937352-a542-49dd-9d43-96db043da321"
      },
      "outputs": [
        {
          "name": "stdout",
          "output_type": "stream",
          "text": [
            "The even numbers in the list are: [34, 22, 86, 100, 22, 24, 18]\n",
            "The sum of even numbers in the list is: 306\n"
          ]
        }
      ],
      "source": [
        "# We can return array from a function\n",
        "def find_even_sum(array):\n",
        "    even_numbers = []\n",
        "\n",
        "    for num in array:\n",
        "        if num % 2 == 0:\n",
        "            even_numbers.append(num)\n",
        "\n",
        "        else:\n",
        "            continue\n",
        "\n",
        "    print(f\"The even numbers in the list are: {even_numbers}\")\n",
        "\n",
        "    sum_even_numbers = add_numbers(even_numbers)\n",
        "\n",
        "    return sum_even_numbers\n",
        "\n",
        "numbers = [1, 34, 22, 55, 67, 86, 100, 201, 33, 22, 24, 18, 21, 17, 15]\n",
        "evens = find_even_sum(numbers)\n",
        "\n",
        "print(f\"The sum of even numbers in the list is: {evens}\")"
      ]
    },
    {
      "cell_type": "code",
      "execution_count": null,
      "id": "603dd978",
      "metadata": {
        "id": "603dd978",
        "outputId": "0b049a10-b0f5-4f67-92c2-385286355743"
      },
      "outputs": [
        {
          "name": "stdout",
          "output_type": "stream",
          "text": [
            "A number in the list [5, 43.3, 97, 22.1, 5, 89, 12] is greater than 90: True\n"
          ]
        }
      ],
      "source": [
        "def gt_than_num(array, number):\n",
        "    for num in array:\n",
        "        if num > number:\n",
        "            return True\n",
        "        else:\n",
        "            continue\n",
        "\n",
        "    return False\n",
        "\n",
        "num_bers = [5, 43.3, 97, 22.1, 5, 89, 12]\n",
        "num = 90\n",
        "print(f\"A number in the list {num_bers} is greater than {num}: {gt_than_num(num_bers, num)}\")"
      ]
    },
    {
      "cell_type": "markdown",
      "id": "2eda8e5b",
      "metadata": {
        "id": "2eda8e5b"
      },
      "source": [
        "#### 7. Error & Exceptions\n",
        "\n",
        "Errors in Python can be of two types - \"Syntax Error\" and \"Exceptions\"\n",
        "\n",
        "<b>Syntax error</b> arises from wrong syntax in the code which leads to code failure. This is by far the most common error in programming and easiest to fix.\n",
        "\n",
        "<b>Exceptions:</b> These errors are raised when the code is syntactically correct but the execution of the code leads to an error. This error does not stop program execution but can change the program flow and produce unexpected results."
      ]
    },
    {
      "cell_type": "code",
      "execution_count": null,
      "id": "87e92e2d",
      "metadata": {
        "id": "87e92e2d",
        "outputId": "3a6d58ac-c284-4d9b-9bac-020402c080f5"
      },
      "outputs": [
        {
          "ename": "SyntaxError",
          "evalue": "Missing parentheses in call to 'print'. Did you mean print(\"Hello world\")? (<ipython-input-44-9fb80848b1b7>, line 1)",
          "output_type": "error",
          "traceback": [
            "\u001b[1;36m  File \u001b[1;32m\"<ipython-input-44-9fb80848b1b7>\"\u001b[1;36m, line \u001b[1;32m1\u001b[0m\n\u001b[1;33m    print \"Hello world\"\u001b[0m\n\u001b[1;37m          ^\u001b[0m\n\u001b[1;31mSyntaxError\u001b[0m\u001b[1;31m:\u001b[0m Missing parentheses in call to 'print'. Did you mean print(\"Hello world\")?\n"
          ]
        }
      ],
      "source": [
        "print \"Hello world\""
      ]
    },
    {
      "cell_type": "code",
      "execution_count": null,
      "id": "9bc30e93",
      "metadata": {
        "id": "9bc30e93",
        "outputId": "c5610f19-7e39-4f45-d1a5-379264dceeed"
      },
      "outputs": [
        {
          "ename": "SyntaxError",
          "evalue": "invalid syntax (<ipython-input-45-9114ffa803d4>, line 1)",
          "output_type": "error",
          "traceback": [
            "\u001b[1;36m  File \u001b[1;32m\"<ipython-input-45-9114ffa803d4>\"\u001b[1;36m, line \u001b[1;32m1\u001b[0m\n\u001b[1;33m    for i in range(20)\u001b[0m\n\u001b[1;37m                      ^\u001b[0m\n\u001b[1;31mSyntaxError\u001b[0m\u001b[1;31m:\u001b[0m invalid syntax\n"
          ]
        }
      ],
      "source": [
        "for i in range(20)\n",
        "    print(\"Hello\")"
      ]
    },
    {
      "cell_type": "code",
      "execution_count": null,
      "id": "6f52ee28",
      "metadata": {
        "id": "6f52ee28",
        "outputId": "97928c2d-b9aa-4663-d4ae-5dfbeeaaf5ce"
      },
      "outputs": [
        {
          "ename": "IndexError",
          "evalue": "list index out of range",
          "output_type": "error",
          "traceback": [
            "\u001b[1;31m---------------------------------------------------------------------------\u001b[0m",
            "\u001b[1;31mIndexError\u001b[0m                                Traceback (most recent call last)",
            "\u001b[1;32m<ipython-input-46-c2984cbd879d>\u001b[0m in \u001b[0;36m<module>\u001b[1;34m\u001b[0m\n\u001b[0;32m      1\u001b[0m \u001b[0mer_list\u001b[0m \u001b[1;33m=\u001b[0m \u001b[1;33m[\u001b[0m\u001b[1;34m'don'\u001b[0m\u001b[1;33m,\u001b[0m \u001b[1;34m'cat'\u001b[0m\u001b[1;33m,\u001b[0m \u001b[1;34m'fit'\u001b[0m\u001b[1;33m]\u001b[0m\u001b[1;33m\u001b[0m\u001b[1;33m\u001b[0m\u001b[0m\n\u001b[0;32m      2\u001b[0m \u001b[1;33m\u001b[0m\u001b[0m\n\u001b[1;32m----> 3\u001b[1;33m \u001b[0mprint\u001b[0m\u001b[1;33m(\u001b[0m\u001b[0mer_list\u001b[0m\u001b[1;33m[\u001b[0m\u001b[1;36m4\u001b[0m\u001b[1;33m]\u001b[0m\u001b[1;33m)\u001b[0m\u001b[1;33m\u001b[0m\u001b[1;33m\u001b[0m\u001b[0m\n\u001b[0m",
            "\u001b[1;31mIndexError\u001b[0m: list index out of range"
          ]
        }
      ],
      "source": [
        "er_list = ['don', 'cat', 'fit']\n",
        "\n",
        "print(er_list[4])"
      ]
    },
    {
      "cell_type": "code",
      "execution_count": null,
      "id": "e6288143",
      "metadata": {
        "id": "e6288143",
        "outputId": "8d57364e-83e0-4393-da89-7b4c0c99d7c5"
      },
      "outputs": [
        {
          "name": "stdout",
          "output_type": "stream",
          "text": [
            "{1: 'Beetle', 2: 'Octopus', 3: 'Frog', 4: 'Mice'}\n"
          ]
        },
        {
          "ename": "KeyError",
          "evalue": "5",
          "output_type": "error",
          "traceback": [
            "\u001b[1;31m---------------------------------------------------------------------------\u001b[0m",
            "\u001b[1;31mKeyError\u001b[0m                                  Traceback (most recent call last)",
            "\u001b[1;32m<ipython-input-47-66f9a329f926>\u001b[0m in \u001b[0;36m<module>\u001b[1;34m\u001b[0m\n\u001b[0;32m      4\u001b[0m \u001b[0mprint\u001b[0m\u001b[1;33m(\u001b[0m\u001b[0mdict_err\u001b[0m\u001b[1;33m)\u001b[0m\u001b[1;33m\u001b[0m\u001b[1;33m\u001b[0m\u001b[0m\n\u001b[0;32m      5\u001b[0m \u001b[1;33m\u001b[0m\u001b[0m\n\u001b[1;32m----> 6\u001b[1;33m \u001b[0mdict_err\u001b[0m\u001b[1;33m[\u001b[0m\u001b[1;36m5\u001b[0m\u001b[1;33m]\u001b[0m\u001b[1;33m\u001b[0m\u001b[1;33m\u001b[0m\u001b[0m\n\u001b[0m",
            "\u001b[1;31mKeyError\u001b[0m: 5"
          ]
        }
      ],
      "source": [
        "li_1 = ['Beetle', 'Octopus', 'Frog', 'Mice']\n",
        "li_2 = [1, 2, 3, 4]\n",
        "dict_err = dict(zip(li_2, li_1))\n",
        "print(dict_err)\n",
        "\n",
        "dict_err[5]"
      ]
    },
    {
      "cell_type": "code",
      "execution_count": null,
      "id": "b96fadb3",
      "metadata": {
        "id": "b96fadb3",
        "outputId": "70e30974-4fae-4762-d9ad-efe3adc3ad23"
      },
      "outputs": [
        {
          "ename": "TypeError",
          "evalue": "unsupported operand type(s) for +: 'int' and 'str'",
          "output_type": "error",
          "traceback": [
            "\u001b[1;31m---------------------------------------------------------------------------\u001b[0m",
            "\u001b[1;31mTypeError\u001b[0m                                 Traceback (most recent call last)",
            "\u001b[1;32m<ipython-input-48-aea4cc6eff9c>\u001b[0m in \u001b[0;36m<module>\u001b[1;34m\u001b[0m\n\u001b[0;32m      2\u001b[0m \u001b[0mvar_21\u001b[0m \u001b[1;33m=\u001b[0m \u001b[1;34m'34'\u001b[0m\u001b[1;33m\u001b[0m\u001b[1;33m\u001b[0m\u001b[0m\n\u001b[0;32m      3\u001b[0m \u001b[1;33m\u001b[0m\u001b[0m\n\u001b[1;32m----> 4\u001b[1;33m \u001b[0mprint\u001b[0m\u001b[1;33m(\u001b[0m\u001b[0mvar_11\u001b[0m \u001b[1;33m+\u001b[0m \u001b[0mvar_21\u001b[0m\u001b[1;33m)\u001b[0m\u001b[1;33m\u001b[0m\u001b[1;33m\u001b[0m\u001b[0m\n\u001b[0m",
            "\u001b[1;31mTypeError\u001b[0m: unsupported operand type(s) for +: 'int' and 'str'"
          ]
        }
      ],
      "source": [
        "var_11 = 45\n",
        "var_21 = '34'\n",
        "\n",
        "print(var_11 + var_21)"
      ]
    },
    {
      "cell_type": "code",
      "execution_count": null,
      "id": "301edaa0",
      "metadata": {
        "id": "301edaa0",
        "outputId": "2ba2a223-5909-4905-e901-dea0d1076ad2"
      },
      "outputs": [
        {
          "ename": "TypeError",
          "evalue": "print_s() takes 0 positional arguments but 1 was given",
          "output_type": "error",
          "traceback": [
            "\u001b[1;31m---------------------------------------------------------------------------\u001b[0m",
            "\u001b[1;31mTypeError\u001b[0m                                 Traceback (most recent call last)",
            "\u001b[1;32m<ipython-input-49-df085280e2c1>\u001b[0m in \u001b[0;36m<module>\u001b[1;34m\u001b[0m\n\u001b[0;32m      4\u001b[0m     \u001b[1;32mreturn\u001b[0m\u001b[1;33m\u001b[0m\u001b[1;33m\u001b[0m\u001b[0m\n\u001b[0;32m      5\u001b[0m \u001b[1;33m\u001b[0m\u001b[0m\n\u001b[1;32m----> 6\u001b[1;33m \u001b[0mprint_s\u001b[0m\u001b[1;33m(\u001b[0m\u001b[1;36m23\u001b[0m\u001b[1;33m)\u001b[0m\u001b[1;33m\u001b[0m\u001b[1;33m\u001b[0m\u001b[0m\n\u001b[0m",
            "\u001b[1;31mTypeError\u001b[0m: print_s() takes 0 positional arguments but 1 was given"
          ]
        }
      ],
      "source": [
        "def print_s():\n",
        "    print(\"Hello dear\")\n",
        "\n",
        "    return\n",
        "\n",
        "print_s(23)"
      ]
    },
    {
      "cell_type": "code",
      "execution_count": null,
      "id": "9df9a995",
      "metadata": {
        "id": "9df9a995",
        "outputId": "9c1bfb5b-ad52-4da8-d8e8-d63236ca4be0"
      },
      "outputs": [
        {
          "ename": "TypeError",
          "evalue": "'>' not supported between instances of 'str' and 'int'",
          "output_type": "error",
          "traceback": [
            "\u001b[1;31m---------------------------------------------------------------------------\u001b[0m",
            "\u001b[1;31mTypeError\u001b[0m                                 Traceback (most recent call last)",
            "\u001b[1;32m<ipython-input-50-debb13310612>\u001b[0m in \u001b[0;36m<module>\u001b[1;34m\u001b[0m\n\u001b[1;32m----> 1\u001b[1;33m \u001b[1;34m'tit'\u001b[0m \u001b[1;33m>\u001b[0m \u001b[1;36m3\u001b[0m\u001b[1;33m\u001b[0m\u001b[1;33m\u001b[0m\u001b[0m\n\u001b[0m",
            "\u001b[1;31mTypeError\u001b[0m: '>' not supported between instances of 'str' and 'int'"
          ]
        }
      ],
      "source": [
        "'tit' > 3"
      ]
    },
    {
      "cell_type": "code",
      "execution_count": null,
      "id": "d03e34d6",
      "metadata": {
        "id": "d03e34d6",
        "outputId": "ed2f650d-b19c-405e-b13c-6423fb4310fa"
      },
      "outputs": [
        {
          "ename": "AttributeError",
          "evalue": "'tuple' object has no attribute 'append'",
          "output_type": "error",
          "traceback": [
            "\u001b[1;31m---------------------------------------------------------------------------\u001b[0m",
            "\u001b[1;31mAttributeError\u001b[0m                            Traceback (most recent call last)",
            "\u001b[1;32m<ipython-input-51-4ad048f4b9fc>\u001b[0m in \u001b[0;36m<module>\u001b[1;34m\u001b[0m\n\u001b[0;32m      1\u001b[0m \u001b[0mtup_err\u001b[0m \u001b[1;33m=\u001b[0m \u001b[1;33m(\u001b[0m\u001b[1;34m'bit'\u001b[0m\u001b[1;33m,\u001b[0m \u001b[1;34m'eat'\u001b[0m\u001b[1;33m)\u001b[0m\u001b[1;33m\u001b[0m\u001b[1;33m\u001b[0m\u001b[0m\n\u001b[1;32m----> 2\u001b[1;33m \u001b[0mtup_err\u001b[0m\u001b[1;33m.\u001b[0m\u001b[0mappend\u001b[0m\u001b[1;33m(\u001b[0m\u001b[1;34m'kit'\u001b[0m\u001b[1;33m)\u001b[0m\u001b[1;33m\u001b[0m\u001b[1;33m\u001b[0m\u001b[0m\n\u001b[0m",
            "\u001b[1;31mAttributeError\u001b[0m: 'tuple' object has no attribute 'append'"
          ]
        }
      ],
      "source": [
        "tup_err = ('bit', 'eat')\n",
        "tup_err.append('kit')"
      ]
    },
    {
      "cell_type": "markdown",
      "id": "538a7ee6",
      "metadata": {
        "id": "538a7ee6"
      },
      "source": [
        "#### 8. Recursion\n",
        "\n",
        "A recursive function is a function which calls itself. It can be helpful to avoid a lot of nested iterations and make code look clean"
      ]
    },
    {
      "cell_type": "code",
      "execution_count": null,
      "id": "ef953d18",
      "metadata": {
        "id": "ef953d18",
        "outputId": "894a50e7-3512-469c-f846-0f630b012135"
      },
      "outputs": [
        {
          "data": {
            "text/plain": [
              "24"
            ]
          },
          "execution_count": 43,
          "metadata": {},
          "output_type": "execute_result"
        }
      ],
      "source": [
        "# We will look at a simple recursive function which calculates factorial of a number;\n",
        "# 1! = 1\n",
        "# 2! = 2 * 1!\n",
        "# 3! = 3 * 2!\n",
        "# 4! = 4 * 3!\n",
        "# 5! ......\n",
        "\n",
        "# Create a function that calls itself\n",
        "def calc_factorial(num):\n",
        "\n",
        "    if num == 0 or num == 1:\n",
        "        return 1\n",
        "    else:\n",
        "        return (num * calc_factorial(num - 1))\n",
        "\n",
        "calc_factorial(4)"
      ]
    },
    {
      "cell_type": "markdown",
      "id": "79a7d672",
      "metadata": {
        "id": "79a7d672"
      },
      "source": [
        "#### 9. Object Oriented Programing (OOP)"
      ]
    },
    {
      "cell_type": "markdown",
      "id": "e8b89c99",
      "metadata": {
        "id": "e8b89c99"
      },
      "source": [
        "Python is an object-oriented language which offers methods for creating classes and defining objects.\n",
        "\n",
        "A class is a collection instance variables and methods which together defines the nature or characteristics of an object type. Classes a basically the blue prints or templates from which objects are instantiated.\n",
        "\n",
        "An object is an instance of a class with its attributes or properties defined. A class serve as a construct for many objects"
      ]
    },
    {
      "cell_type": "code",
      "execution_count": null,
      "id": "e88d8faa",
      "metadata": {
        "id": "e88d8faa"
      },
      "outputs": [],
      "source": [
        "# We will create a class Book for a bookseller application\n",
        "class Book:\n",
        "\n",
        "    # __init__ is a constructor for defining the class variables\n",
        "    def __init__(self, title, quantity, author, price):\n",
        "\n",
        "        self.title = title\n",
        "        self.quantity = quantity\n",
        "        self.author = author\n",
        "        self.price = price"
      ]
    },
    {
      "cell_type": "code",
      "execution_count": null,
      "id": "47b15b79",
      "metadata": {
        "id": "47b15b79",
        "outputId": "f95de92d-1490-419d-81b5-ae6c96c5daa7"
      },
      "outputs": [
        {
          "name": "stdout",
          "output_type": "stream",
          "text": [
            "<__main__.Book object at 0x0000021E6A3B5700>\n",
            "<__main__.Book object at 0x0000021E6A3B5130>\n"
          ]
        }
      ],
      "source": [
        "# Instantiating an object of the class Book\n",
        "book_1 = Book('The Frog', 10, 'James Twain', 20)\n",
        "book_2 = Book('Moonlight stories', 5, 'Timothy sandwich', 35)\n",
        "\n",
        "# printing the books just tells us that the variables are objects of class Book with their memory locations\n",
        "print(book_1)\n",
        "print(book_2)"
      ]
    },
    {
      "cell_type": "code",
      "execution_count": null,
      "id": "49720144",
      "metadata": {
        "id": "49720144"
      },
      "outputs": [],
      "source": [
        "# We can add the __repr__ method which gives details of the object attributes\n",
        "class Book:\n",
        "\n",
        "    # __init__ is a constructor for defining the class variables\n",
        "    def __init__(self, title, quantity, author, price):\n",
        "\n",
        "        self.title = title\n",
        "        self.quantity = quantity\n",
        "        self.author = author\n",
        "        self.price = price\n",
        "\n",
        "    # Define some other random method for this class (get the date of book publish)\n",
        "    def get_publish(self):\n",
        "        day = str(self.price)\n",
        "        return day + '/05/2020'\n",
        "\n",
        "    def __repr__(self):\n",
        "        return f\"Book: {self.title}, Quantity: {self.quantity}, Author: {self.author}, Price: {self.price}\""
      ]
    },
    {
      "cell_type": "code",
      "execution_count": null,
      "id": "43553241",
      "metadata": {
        "id": "43553241",
        "outputId": "cbe76401-81d9-4a0c-9129-9f8e53240ca2"
      },
      "outputs": [
        {
          "name": "stdout",
          "output_type": "stream",
          "text": [
            "Book: The Frog, Quantity: 10, Author: James Twain, Price: 20\n",
            "Book: Moonlight stories, Quantity: 5, Author: Timothy sandwich, Price: 35\n"
          ]
        }
      ],
      "source": [
        "# Instantiating an object of the class Book\n",
        "book_1 = Book('The Frog', 10, 'James Twain', 20)\n",
        "book_2 = Book('Moonlight stories', 5, 'Timothy sandwich', 35)\n",
        "\n",
        "# printing the books just tells us that the variables are objects of class Book with their memory locations\n",
        "print(book_1)\n",
        "print(book_2)"
      ]
    },
    {
      "cell_type": "code",
      "execution_count": null,
      "id": "af22e020",
      "metadata": {
        "id": "af22e020",
        "outputId": "1e4411fc-fbe7-46a2-c8a8-f7a02995c679"
      },
      "outputs": [
        {
          "name": "stdout",
          "output_type": "stream",
          "text": [
            "James Twain\n",
            "Moonlight stories\n"
          ]
        }
      ],
      "source": [
        "# We can also get the individual attribute of each book using the '.' operator\n",
        "print(book_1.author)\n",
        "print(book_2.title)"
      ]
    },
    {
      "cell_type": "code",
      "execution_count": null,
      "id": "aa3343cb",
      "metadata": {
        "id": "aa3343cb",
        "outputId": "fe5d9a22-f7cc-4e1a-d02f-d2fb3cadc14c"
      },
      "outputs": [
        {
          "data": {
            "text/plain": [
              "'20/05/2020'"
            ]
          },
          "execution_count": 57,
          "metadata": {},
          "output_type": "execute_result"
        }
      ],
      "source": [
        "book_1.get_publish()"
      ]
    },
    {
      "cell_type": "markdown",
      "id": "c7ca48a3",
      "metadata": {
        "id": "c7ca48a3"
      },
      "source": [
        "##### Encapsulation"
      ]
    },
    {
      "cell_type": "markdown",
      "id": "55d15128",
      "metadata": {
        "id": "55d15128"
      },
      "source": [
        "This is a core concept or advantage of OOP. __Encapsulation__ provides a means of preventing unauthorized access to some instance varibles of an object. This keeps the variables hidden and inaccessible often referred to as private variables\n",
        "\n",
        "To create a private variable we use the double underscore (__variableName) in front of the variable name"
      ]
    },
    {
      "cell_type": "code",
      "execution_count": null,
      "id": "4630429d",
      "metadata": {
        "id": "4630429d"
      },
      "outputs": [],
      "source": [
        "# Let's add some private variables to our class\n",
        "class Book:\n",
        "\n",
        "    # __init__ is a constructor for defining the class variables\n",
        "    def __init__(self, title, quantity, author, price):\n",
        "\n",
        "        self.title = title\n",
        "        self.quantity = quantity\n",
        "        self.author = author\n",
        "\n",
        "        # We make the price a private variable and create another private variable 'discount'\n",
        "        self.__price = price\n",
        "        self.__discount = None\n",
        "\n",
        "\n",
        "    # Define some other random method for this class (get the date of book publish)\n",
        "    def get_publish(self):\n",
        "        day = str(self.price)\n",
        "        return day + '/05/2020'\n",
        "\n",
        "    def __repr__(self):\n",
        "        return f\"Book: {self.title}, Quantity: {self.quantity}, Author: {self.author}\""
      ]
    },
    {
      "cell_type": "code",
      "execution_count": null,
      "id": "6adaf24d",
      "metadata": {
        "id": "6adaf24d",
        "outputId": "68e690bb-591c-4e8e-8b8a-dd572376d3c0"
      },
      "outputs": [
        {
          "name": "stdout",
          "output_type": "stream",
          "text": [
            "Book: The Frog, Quantity: 10, Author: James Twain\n",
            "Book: Moonlight stories, Quantity: 5, Author: Timothy sandwich\n"
          ]
        }
      ],
      "source": [
        "# Instantiating an object of the class Book\n",
        "book_1 = Book('The Frog', 10, 'James Twain', 20)\n",
        "book_2 = Book('Moonlight stories', 5, 'Timothy sandwich', 35)\n",
        "\n",
        "# printing the books just tells us that the variables are objects of class Book with their memory locations\n",
        "print(book_1)\n",
        "print(book_2)"
      ]
    },
    {
      "cell_type": "code",
      "execution_count": null,
      "id": "2f514c45",
      "metadata": {
        "id": "2f514c45",
        "outputId": "ee21b3ee-7a04-44c4-d631-04f841883586"
      },
      "outputs": [
        {
          "name": "stdout",
          "output_type": "stream",
          "text": [
            "The Frog\n"
          ]
        },
        {
          "ename": "AttributeError",
          "evalue": "'Book' object has no attribute '__discount'",
          "output_type": "error",
          "traceback": [
            "\u001b[1;31m---------------------------------------------------------------------------\u001b[0m",
            "\u001b[1;31mAttributeError\u001b[0m                            Traceback (most recent call last)",
            "\u001b[1;32m<ipython-input-60-3204c7801819>\u001b[0m in \u001b[0;36m<module>\u001b[1;34m\u001b[0m\n\u001b[0;32m      2\u001b[0m \u001b[1;33m\u001b[0m\u001b[0m\n\u001b[0;32m      3\u001b[0m \u001b[1;31m# We are unable to print the value of the discount because it is a private variable\u001b[0m\u001b[1;33m\u001b[0m\u001b[1;33m\u001b[0m\u001b[1;33m\u001b[0m\u001b[0m\n\u001b[1;32m----> 4\u001b[1;33m \u001b[0mprint\u001b[0m\u001b[1;33m(\u001b[0m\u001b[0mbook_1\u001b[0m\u001b[1;33m.\u001b[0m\u001b[0m__discount\u001b[0m\u001b[1;33m)\u001b[0m\u001b[1;33m\u001b[0m\u001b[1;33m\u001b[0m\u001b[0m\n\u001b[0m",
            "\u001b[1;31mAttributeError\u001b[0m: 'Book' object has no attribute '__discount'"
          ]
        }
      ],
      "source": [
        "print(book_1.title)\n",
        "\n",
        "# We are unable to print the value of the discount because it is a private variable\n",
        "print(book_1.__discount)"
      ]
    },
    {
      "cell_type": "code",
      "execution_count": null,
      "id": "0bf3846d",
      "metadata": {
        "id": "0bf3846d",
        "outputId": "06519ef4-0946-45c4-ae4b-42f0fb2d0128"
      },
      "outputs": [
        {
          "ename": "AttributeError",
          "evalue": "'Book' object has no attribute '__price'",
          "output_type": "error",
          "traceback": [
            "\u001b[1;31m---------------------------------------------------------------------------\u001b[0m",
            "\u001b[1;31mAttributeError\u001b[0m                            Traceback (most recent call last)",
            "\u001b[1;32m<ipython-input-61-21f3e231c117>\u001b[0m in \u001b[0;36m<module>\u001b[1;34m\u001b[0m\n\u001b[0;32m      1\u001b[0m \u001b[1;31m# Price variable is now private so we can not access variable directly\u001b[0m\u001b[1;33m\u001b[0m\u001b[1;33m\u001b[0m\u001b[1;33m\u001b[0m\u001b[0m\n\u001b[1;32m----> 2\u001b[1;33m \u001b[0mprint\u001b[0m\u001b[1;33m(\u001b[0m\u001b[0mbook_2\u001b[0m\u001b[1;33m.\u001b[0m\u001b[0m__price\u001b[0m\u001b[1;33m)\u001b[0m\u001b[1;33m\u001b[0m\u001b[1;33m\u001b[0m\u001b[0m\n\u001b[0m",
            "\u001b[1;31mAttributeError\u001b[0m: 'Book' object has no attribute '__price'"
          ]
        }
      ],
      "source": [
        "# Price variable is now private so we can not access variable directly\n",
        "print(book_2.__price)"
      ]
    },
    {
      "cell_type": "code",
      "execution_count": null,
      "id": "06568295",
      "metadata": {
        "id": "06568295"
      },
      "outputs": [],
      "source": [
        "# We can use setters and getter methods to access these variables\n",
        "class Book:\n",
        "\n",
        "    # __init__ is a constructor for defining the class variables\n",
        "    def __init__(self, title, quantity, author, price):\n",
        "\n",
        "        self.title = title\n",
        "        self.quantity = quantity\n",
        "        self.author = author\n",
        "\n",
        "        # We make the price a private variable and create another private variable 'discount'\n",
        "        self.__price = price\n",
        "        self.__discount = None\n",
        "\n",
        "    # Define a setter for discount\n",
        "    def set_discount(self, discount):\n",
        "        self.__discount = discount\n",
        "\n",
        "\n",
        "    # Define a getter for the price\n",
        "    def get_price(self):\n",
        "\n",
        "        if self.quantity < 5:\n",
        "            return self.__price\n",
        "\n",
        "        elif self.quantity > 5 and self.quantity < 20:\n",
        "            return self.__price * (1 - self.__discount)\n",
        "\n",
        "        else:\n",
        "            return self.__price * (1 - 1.5*self.__discount)\n",
        "\n",
        "\n",
        "    # Define some other random method for this class (get the date of book publish)\n",
        "    def get_publish(self):\n",
        "        day = str(self.price)\n",
        "        return day + '/05/2020'\n",
        "\n",
        "    def __repr__(self):\n",
        "        return f\"Book: {self.title}, Quantity: {self.quantity}, Author: {self.author}\""
      ]
    },
    {
      "cell_type": "code",
      "execution_count": null,
      "id": "35193de1",
      "metadata": {
        "id": "35193de1"
      },
      "outputs": [],
      "source": [
        "# Instantiating an object of the class Book\n",
        "book_1 = Book('The Frog', 10, 'James Twain', 20)\n",
        "book_2 = Book('Moonlight stories', 5, 'Timothy sandwich', 35)"
      ]
    },
    {
      "cell_type": "code",
      "execution_count": null,
      "id": "f475a1df",
      "metadata": {
        "id": "f475a1df",
        "outputId": "5803b89b-11b2-4eb4-eaab-7cad790d7999"
      },
      "outputs": [
        {
          "data": {
            "text/plain": [
              "17.0"
            ]
          },
          "execution_count": 64,
          "metadata": {},
          "output_type": "execute_result"
        }
      ],
      "source": [
        "# Set the discount for the book\n",
        "book_1.set_discount(0.15)\n",
        "\n",
        "# Get the price of the book using the getter method\n",
        "book_1.get_price()"
      ]
    },
    {
      "cell_type": "markdown",
      "id": "7a96398c",
      "metadata": {
        "id": "7a96398c"
      },
      "source": [
        "##### Inheritance\n",
        "\n",
        "This is another concept of OOP which allows new classes to be created off from other classes. Inheritance simply allows new classes to inherit other classes templates/blueprints (i.e. methods and variables) in creating theirs.\n",
        "\n",
        "The subclass or child class is the class that inherits. The superclass or parent class is the class from which methods and/or attributes are inherited."
      ]
    },
    {
      "cell_type": "code",
      "execution_count": null,
      "id": "eb3b575d",
      "metadata": {
        "id": "eb3b575d"
      },
      "outputs": [],
      "source": [
        "# We can add new subclasses to our main Book class; A subclass can be a Novel class or Academic class.\n",
        "# A Novel is a book same as Academic book, so it makes sense to inherit methods and variables from the Book class\n",
        "\n",
        "# To create a subclass we use the class keyword as usual but reference the name of the parent class in parentheses\n",
        "# References the parent class as \"Book\"\n",
        "\n",
        "class Novel(Book):\n",
        "\n",
        "    # This is the constructor for the Novel class\n",
        "    def __init__(self, title, quantity, author, price, pages):\n",
        "\n",
        "        # This initializes the instance variables inherited from the parent class\n",
        "        super().__init__(title, quantity, author, price)\n",
        "\n",
        "        # This declares a new variable for this class\n",
        "        self.pages = pages\n",
        "\n",
        "    def get_rating(self):\n",
        "        return 3.5\n"
      ]
    },
    {
      "cell_type": "code",
      "execution_count": null,
      "id": "6b18d422",
      "metadata": {
        "id": "6b18d422"
      },
      "outputs": [],
      "source": [
        "novel_book = Novel('The london bridge', 23, 'Rit Brian', 20, 109)"
      ]
    },
    {
      "cell_type": "code",
      "execution_count": null,
      "id": "6ac73e4f",
      "metadata": {
        "id": "6ac73e4f",
        "outputId": "41907833-b4a8-41c2-8a4b-c50d773790bd"
      },
      "outputs": [
        {
          "data": {
            "text/plain": [
              "'The london bridge'"
            ]
          },
          "execution_count": 67,
          "metadata": {},
          "output_type": "execute_result"
        }
      ],
      "source": [
        "# We can access this instance from the super class\n",
        "novel_book.title"
      ]
    },
    {
      "cell_type": "code",
      "execution_count": null,
      "id": "e991cfa2",
      "metadata": {
        "id": "e991cfa2",
        "outputId": "89b51628-c1dc-4a61-cecc-bbd666fb7efe"
      },
      "outputs": [
        {
          "data": {
            "text/plain": [
              "17.0"
            ]
          },
          "execution_count": 68,
          "metadata": {},
          "output_type": "execute_result"
        }
      ],
      "source": [
        "# Both method accessed through the parent class\n",
        "novel_book.set_discount(0.10)\n",
        "novel_book.get_price()"
      ]
    },
    {
      "cell_type": "code",
      "execution_count": null,
      "id": "3192c7d3",
      "metadata": {
        "id": "3192c7d3",
        "outputId": "593b254f-7a0c-41da-e49d-4aee641f7062"
      },
      "outputs": [
        {
          "name": "stdout",
          "output_type": "stream",
          "text": [
            "109\n",
            "3.5\n"
          ]
        }
      ],
      "source": [
        "# We can also access its own method and instance variables\n",
        "print(novel_book.pages)\n",
        "print(novel_book.get_rating())"
      ]
    },
    {
      "cell_type": "markdown",
      "id": "59166beb",
      "metadata": {
        "id": "59166beb"
      },
      "source": [
        "##### Polymorphism\n",
        "\n",
        " This is the ability of a subclass to change a method which already exists in the parent class to meet its own needs"
      ]
    },
    {
      "cell_type": "code",
      "execution_count": null,
      "id": "d75134b4",
      "metadata": {
        "id": "d75134b4",
        "outputId": "fa195474-4798-48b5-a005-6e8b3ed32528"
      },
      "outputs": [
        {
          "name": "stdout",
          "output_type": "stream",
          "text": [
            "Book: The london bridge, Quantity: 23, Author: Rit Brian\n"
          ]
        }
      ],
      "source": [
        "# The __repr__ exist in the parent class Book is used for printing\n",
        "# Novel class also inherited this method\n",
        "\n",
        "print(novel_book)"
      ]
    },
    {
      "cell_type": "code",
      "execution_count": null,
      "id": "1d4561a1",
      "metadata": {
        "id": "1d4561a1"
      },
      "outputs": [],
      "source": [
        "# We can overide that method in the parent class by redefining it in this subclass\n",
        "class Novel(Book):\n",
        "\n",
        "    # This is the constructor for the Novel class\n",
        "    def __init__(self, title, quantity, author, price, pages):\n",
        "\n",
        "        # This initializes the instance variables inherited from the parent class\n",
        "        super().__init__(title, quantity, author, price)\n",
        "\n",
        "        # This declares a new variable for this class\n",
        "        self.pages = pages\n",
        "\n",
        "    def get_rating(self):\n",
        "        return 3.5\n",
        "\n",
        "    def __repr__(self):\n",
        "        return f\"Book: {self.title}, Quantity: {self.quantity}, Author: {self.author}, Pages:{self.pages}, Price:{self.get_price()}\"\n",
        ""
      ]
    },
    {
      "cell_type": "code",
      "execution_count": null,
      "id": "322f5b5c",
      "metadata": {
        "id": "322f5b5c",
        "outputId": "49aa4771-c516-413c-9ffc-dddec58c79fa"
      },
      "outputs": [
        {
          "name": "stdout",
          "output_type": "stream",
          "text": [
            "Book: The london bridge, Quantity: 23, Author: Rit Brian, Pages:109, Price:14.0\n"
          ]
        }
      ],
      "source": [
        "novel_book2 = Novel('The london bridge', 23, 'Rit Brian', 20, 109)\n",
        "novel_book2.set_discount(0.20)\n",
        "\n",
        "# The new print style uses the one defined in the subclass and not the parentclass\n",
        "print(novel_book2)"
      ]
    },
    {
      "cell_type": "markdown",
      "id": "1a5d6473",
      "metadata": {
        "id": "1a5d6473"
      },
      "source": [
        "NB: Python does not support method overloading i.e., you can not use same name for different methods in a class even if their return type and/or number of arguments are different as you would do in other programming languages"
      ]
    },
    {
      "cell_type": "code",
      "execution_count": null,
      "id": "1bc52d43",
      "metadata": {
        "id": "1bc52d43"
      },
      "outputs": [],
      "source": []
    }
  ],
  "metadata": {
    "kernelspec": {
      "display_name": "Python 3",
      "language": "python",
      "name": "python3"
    },
    "language_info": {
      "codemirror_mode": {
        "name": "ipython",
        "version": 3
      },
      "file_extension": ".py",
      "mimetype": "text/x-python",
      "name": "python",
      "nbconvert_exporter": "python",
      "pygments_lexer": "ipython3",
      "version": "3.8.8"
    },
    "colab": {
      "provenance": [],
      "include_colab_link": true
    }
  },
  "nbformat": 4,
  "nbformat_minor": 5
}